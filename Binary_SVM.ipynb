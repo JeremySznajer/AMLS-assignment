{
 "cells": [
  {
   "cell_type": "code",
   "execution_count": 1,
   "id": "a41e1ccf",
   "metadata": {},
   "outputs": [],
   "source": [
    "import os\n",
    "\n",
    "import matplotlib as mpl\n",
    "import matplotlib.pyplot as plt\n",
    "\n",
    "from IPython.display import display\n",
    "#matplotlib inline\n",
    "\n",
    "import pandas as pd\n",
    "import numpy as np\n",
    "\n",
    "from PIL import Image\n",
    "\n",
    "from skimage.feature import hog\n",
    "from skimage.transform import resize\n",
    "from skimage.color import rgb2gray\n",
    "\n",
    "from sklearn.model_selection import train_test_split\n",
    "from sklearn.metrics import accuracy_score, roc_curve, auc\n",
    "import plot_learning_curve as plts\n",
    "from sklearn.preprocessing import StandardScaler\n",
    "from sklearn.decomposition import PCA\n",
    "from sklearn.svm import SVC\n",
    "\n",
    "from tqdm import tqdm"
   ]
  },
  {
   "cell_type": "code",
   "execution_count": 2,
   "id": "8fa24e8a",
   "metadata": {},
   "outputs": [],
   "source": [
    "train_labels=pd.read_csv('./dataset/label_binary.csv',index_col=0)\n",
    "test_labels = pd.read_csv('./test/label_binary.csv',index_col=0)"
   ]
  },
  {
   "cell_type": "code",
   "execution_count": 3,
   "id": "1562e677",
   "metadata": {},
   "outputs": [],
   "source": [
    "def get_image(filename, root):\n",
    "    \"\"\"\n",
    "    Converts an image number into the file path where the image is located, \n",
    "    opens the image, and returns the image as a numpy array.\n",
    "    \"\"\"\n",
    "    file_path = os.path.join(root, filename)\n",
    "    img = Image.open(file_path)\n",
    "    return np.array(img)"
   ]
  },
  {
   "cell_type": "code",
   "execution_count": 4,
   "id": "6aaaca87",
   "metadata": {},
   "outputs": [],
   "source": [
    "def create_features(image, size=None):\n",
    "    \n",
    "    if type(size) == tuple:\n",
    "        image = resize(image,size)\n",
    "\n",
    "    # turn greyscale image saved as RGB into greyscale\n",
    "    grey_image = rgb2gray(image)\n",
    "    \n",
    "    # get HOG features from greyscale image\n",
    "    hog_features = hog(grey_image, \n",
    "                       block_norm='L2-Hys',\n",
    "                       pixels_per_cell=(32,32)) #Value to change\n",
    "    \n",
    "    return hog_features"
   ]
  },
  {
   "cell_type": "code",
   "execution_count": 5,
   "id": "883ef52e",
   "metadata": {},
   "outputs": [
    {
     "name": "stderr",
     "output_type": "stream",
     "text": [
      "100%|██████████████████████████████████████████████████████████████████████████████| 3000/3000 [01:35<00:00, 31.55it/s]\n",
      "100%|████████████████████████████████████████████████████████████████████████████████| 200/200 [00:06<00:00, 31.96it/s]"
     ]
    },
    {
     "name": "stdout",
     "output_type": "stream",
     "text": [
      "Feature matrix shape is:  (3000, 2916)\n"
     ]
    },
    {
     "name": "stderr",
     "output_type": "stream",
     "text": [
      "\n"
     ]
    }
   ],
   "source": [
    "def create_feature_matrix(label_dataframe,root):\n",
    "    features_list = []\n",
    "    \n",
    "    for image_id in tqdm(label_dataframe.index):\n",
    "        # load image\n",
    "        image = get_image(image_id,root)\n",
    "        # get features for image\n",
    "        image_features = create_features(image, (256,256))\n",
    "        features_list.append(image_features)\n",
    "        \n",
    "    # convert list of arrays into a matrix\n",
    "    feature_matrix = np.array(features_list)\n",
    "    return feature_matrix\n",
    "\n",
    "# run create_feature_matrix on our dataframe of images\n",
    "feature_matrix = create_feature_matrix(train_labels, root='dataset/image/')\n",
    "test_feature_matrix = create_feature_matrix(test_labels,root='./test/image')\n",
    "print('Feature matrix shape is: ', feature_matrix.shape)"
   ]
  },
  {
   "cell_type": "code",
   "execution_count": 6,
   "id": "20730be5",
   "metadata": {},
   "outputs": [
    {
     "name": "stdout",
     "output_type": "stream",
     "text": [
      "PCA matrix shape is:  (3000, 150)\n",
      "PCA matrix shape is:  (200, 150)\n"
     ]
    }
   ],
   "source": [
    "# define standard scaler\n",
    "ss = StandardScaler()\n",
    "# run this on our feature matrix\n",
    "tumor_stand = ss.fit_transform(feature_matrix)\n",
    "test_stand = ss.fit_transform(test_feature_matrix)\n",
    "\n",
    "pca = PCA(n_components=150)#can change\n",
    "\n",
    "# use fit_transform to run PCA on our standardized matrix\n",
    "tumor_pca = pca.fit_transform(tumor_stand)\n",
    "test_pca = pca.fit_transform(test_stand)\n",
    "# look at new shape\n",
    "print('PCA matrix shape is: ', tumor_pca.shape)\n",
    "print('PCA matrix shape is: ', test_pca.shape)"
   ]
  },
  {
   "cell_type": "code",
   "execution_count": 7,
   "id": "cfe93e79",
   "metadata": {},
   "outputs": [
    {
     "data": {
      "text/plain": [
       "1    2037\n",
       "0     363\n",
       "dtype: int64"
      ]
     },
     "execution_count": 7,
     "metadata": {},
     "output_type": "execute_result"
    }
   ],
   "source": [
    "X = pd.DataFrame(tumor_pca)\n",
    "y = pd.Series(train_labels.label.values)\n",
    "\n",
    "X_test = pd.DataFrame(test_pca)\n",
    "Y_test = pd.Series(test_labels.label.values)\n",
    "\n",
    "X_train, X_val, y_train, y_val = train_test_split(X,\n",
    "                                                  y,\n",
    "                                                  test_size=.2,\n",
    "                                                  random_state=1234123)\n",
    "\n",
    "# look at the distrubution of labels in the train set\n",
    "pd.Series(y_train).value_counts()"
   ]
  },
  {
   "cell_type": "code",
   "execution_count": 8,
   "id": "01e41060",
   "metadata": {},
   "outputs": [],
   "source": [
    "#train a linear model using SVC\n",
    "#svm = SVC(kernel='linear', probability=True, random_state=42)\n",
    "\n",
    "# fit model\n",
    "#svm.fit(X_train, y_train)"
   ]
  },
  {
   "cell_type": "code",
   "execution_count": 9,
   "id": "190c0505",
   "metadata": {},
   "outputs": [],
   "source": [
    "#train a sig model using SVC\n",
    "#svm2 = SVC(kernel='sigmoid', probability=True, random_state=42)\n",
    "\n",
    "#fit model\n",
    "#svm2.fit(X_train, y_train)"
   ]
  },
  {
   "cell_type": "code",
   "execution_count": 10,
   "id": "eaea829b",
   "metadata": {},
   "outputs": [
    {
     "data": {
      "text/plain": [
       "SVC(probability=True, random_state=42)"
      ]
     },
     "execution_count": 10,
     "metadata": {},
     "output_type": "execute_result"
    }
   ],
   "source": [
    "#train a RBF model using SVC\n",
    "svm3 = SVC(kernel = 'rbf', probability =True, random_state = 42)\n",
    "\n",
    "#fit model\n",
    "svm3.fit(X_train, y_train)"
   ]
  },
  {
   "cell_type": "code",
   "execution_count": 11,
   "id": "cd0ec01f",
   "metadata": {},
   "outputs": [],
   "source": [
    "#train a poly model using SVC\n",
    "#svm4 = SVC(kernel = 'poly', probability =True, random_state = 42)\n",
    "\n",
    "#fit model\n",
    "#svm4.fit(X_train, y_train)"
   ]
  },
  {
   "cell_type": "code",
   "execution_count": 12,
   "id": "682775e6",
   "metadata": {},
   "outputs": [],
   "source": [
    "# Validator Predictions\n",
    "#y_pred = svm.predict(X_val)\n",
    "#y_pred2 = svm2.predict(X_val)\n",
    "y_pred3 = svm3.predict(X_val)\n",
    "#y_pred4 = svm4.predict(X_val)"
   ]
  },
  {
   "cell_type": "code",
   "execution_count": 13,
   "id": "c21353ea",
   "metadata": {},
   "outputs": [],
   "source": [
    "#TEST Prediction\n",
    "#Y_pred_test = svm.predict(X_test)\n",
    "#Y_pred_test2 = svm2.predict(X_test)\n",
    "Y_pred_test3 = svm3.predict(X_test)\n",
    "#Y_pred_test4 = svm4.predict(X_test)"
   ]
  },
  {
   "cell_type": "code",
   "execution_count": 14,
   "id": "35766f72",
   "metadata": {},
   "outputs": [
    {
     "name": "stdout",
     "output_type": "stream",
     "text": [
      "Model accuracy is:  0.9633333333333334\n"
     ]
    }
   ],
   "source": [
    "# calculate Validation Accuracy\n",
    "accuracy = accuracy_score(y_val, y_pred3)\n",
    "#accuracy = [accuracy_score(y_val, y_pred),accuracy_score(y_val, y_pred2),accuracy_score(y_val, y_pred3),accuracy_score(y_val, y_pred4)]\n",
    "print('Model accuracy is: ', accuracy)"
   ]
  },
  {
   "cell_type": "code",
   "execution_count": 15,
   "id": "e2e68271",
   "metadata": {},
   "outputs": [
    {
     "name": "stdout",
     "output_type": "stream",
     "text": [
      "Model accuracy is:  0.865\n"
     ]
    }
   ],
   "source": [
    "# calculate Test Accuracy\n",
    "accuracy = accuracy_score(Y_test, Y_pred_test3)\n",
    "#accuracy = [accuracy_score(Y_test, Y_pred_test),accuracy_score(Y_test, Y_pred_test2),accuracy_score(Y_test, Y_pred_test3),accuracy_score(Y_test, Y_pred_test4)]\n",
    "print('Model accuracy is: ', accuracy)"
   ]
  },
  {
   "cell_type": "code",
   "execution_count": 16,
   "id": "7df29adb",
   "metadata": {},
   "outputs": [
    {
     "data": {
      "image/png": "[encoded data removed]",
      "text/plain": [
       "<Figure size 432x288 with 1 Axes>"
      ]
     },
     "metadata": {
      "needs_background": "light"
     },
     "output_type": "display_data"
    }
   ],
   "source": [
    "# predict probabilities for X_val using predict_proba\n",
    "#probabilities = svm.predict_proba(X_test)\n",
    "#probabilities2 = svm2.predict_proba(X_test)\n",
    "probabilities3 = svm3.predict_proba(X_test)\n",
    "#probabilities4 = svm4.predict_proba(X_test)\n",
    "\n",
    "# select the probabilities for label 1.0\n",
    "y_prob = probabilities3[:, 1]\n",
    "\n",
    "# calculate false positive rate and true positive rate at different thresholds\n",
    "false_positive_rate, true_positive_rate, thresholds = roc_curve(Y_test,\n",
    "                                                                y_prob,\n",
    "                                                                pos_label = 1)\n",
    "\n",
    "# calculate AUC\n",
    "roc_auc = auc(false_positive_rate, true_positive_rate)\n",
    "\n",
    "#plt.title('Receiver Operating Characteristic')\n",
    "#plot the false positive rate on the x axis \n",
    "# and the true positive rate on the y axis\n",
    "roc_plot = plt.plot(false_positive_rate,true_positive_rate,label='AUC = {:0.2f}'.format(roc_auc))\n",
    "\n",
    "#plt.legend(loc=0)\n",
    "#plt.plot([0,1], [0,1], ls='--')\n",
    "#plt.ylabel('True Positive Rate')\n",
    "#plt.xlabel('False Positive Rate');"
   ]
  },
  {
   "cell_type": "code",
   "execution_count": 17,
   "id": "57e2e84c",
   "metadata": {},
   "outputs": [
    {
     "data": {
      "text/plain": [
       "<module 'matplotlib.pyplot' from 'C:\\\\Users\\\\jerem\\\\anaconda3\\\\envs\\\\lab\\\\lib\\\\site-packages\\\\matplotlib\\\\pyplot.py'>"
      ]
     },
     "execution_count": 17,
     "metadata": {},
     "output_type": "execute_result"
    },
    {
     "data": {
      "image/png": "[encoded data removed]",
      "text/plain": [
       "<Figure size 1440x360 with 3 Axes>"
      ]
     },
     "metadata": {
      "needs_background": "light"
     },
     "output_type": "display_data"
    }
   ],
   "source": [
    "#plts.plot_learning_curve(estimator = svm,title = 'Learning Curve linear',X=X_train,y=y_train)\n",
    "#plts.plot_learning_curve(estimator = svm2,title = 'Learning Curve logistic',X=X_train,y=y_train)\n",
    "plts.plot_learning_curve(estimator = svm3,title = 'Learning Curve RBF',X=X_train,y=y_train)\n",
    "#plts.plot_learning_curve(estimator = svm4,title = 'Learning Curve Polynomial',X=X_train,y=y_train)"
   ]
  },
  {
   "cell_type": "code",
   "execution_count": null,
   "id": "9cf28ec0",
   "metadata": {},
   "outputs": [],
   "source": []
  }
 ],
 "metadata": {
  "kernelspec": {
   "display_name": "Python 3 (ipykernel)",
   "language": "python",
   "name": "python3"
  },
  "language_info": {
   "codemirror_mode": {
    "name": "ipython",
    "version": 3
   },
   "file_extension": ".py",
   "mimetype": "text/x-python",
   "name": "python",
   "nbconvert_exporter": "python",
   "pygments_lexer": "ipython3",
   "version": "3.8.12"
  }
 },
 "nbformat": 4,
 "nbformat_minor": 5
}
