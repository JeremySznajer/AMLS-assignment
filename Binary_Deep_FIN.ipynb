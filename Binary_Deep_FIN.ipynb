{
 "cells": [
  {
   "cell_type": "markdown",
   "id": "83b1435c",
   "metadata": {},
   "source": [
    "#  Binary Deep Learning Algorithm"
   ]
  },
  {
   "cell_type": "markdown",
   "id": "56b06bee",
   "metadata": {},
   "source": [
    "# Import libraries\n",
    "Imported Libraries to be used"
   ]
  },
  {
   "cell_type": "code",
   "execution_count": 1,
   "id": "a6e607bd",
   "metadata": {},
   "outputs": [],
   "source": [
    "import os\n",
    "import numpy as np\n",
    "import matplotlib.pyplot as plt\n",
    "import pandas as pd\n",
    "\n",
    "from tensorflow import keras\n",
    "from tensorflow.keras import regularizers, optimizers\n",
    "from tensorflow.keras.models import Sequential\n",
    "from tensorflow.keras.preprocessing.image import ImageDataGenerator\n",
    "from tensorflow.keras.layers import Dense,Activation,Conv2D, Flatten, Dropout, MaxPooling2D, BatchNormalization"
   ]
  },
  {
   "cell_type": "markdown",
   "id": "9d29efaf",
   "metadata": {},
   "source": [
    "# Preprocessing Dataset\n",
    "Make a dataframe with the file names for the images and the labels that go with it  then make the training set and validation set with the location for the images. Making sure to change to greyscale as even though the images are greyscale they are saved as RGB."
   ]
  },
  {
   "cell_type": "code",
   "execution_count": 2,
   "id": "a2beab1a",
   "metadata": {},
   "outputs": [
    {
     "name": "stdout",
     "output_type": "stream",
     "text": [
      "Found 2400 validated image filenames belonging to 2 classes.\n",
      "Found 600 validated image filenames belonging to 2 classes.\n",
      "Found 200 validated image filenames.\n"
     ]
    }
   ],
   "source": [
    "df=pd.read_csv('./dataset/label_binary.csv',dtype=str)\n",
    "df_test=pd.read_csv('./test/label_binary.csv',dtype=str) #to test algorithm against set\n",
    "\n",
    "training_datagen = ImageDataGenerator(\n",
    "rescale =1./255,\n",
    "validation_split = 0.20)\n",
    "\n",
    "training_set = training_datagen.flow_from_dataframe(\n",
    "dataframe = df,\n",
    "directory = './dataset/image/',\n",
    "x_col = \"file_name\",\n",
    "y_col = \"label\",\n",
    "subset = \"training\",\n",
    "seed = 21,\n",
    "target_size = (256, 256), # Can change 512 to see effect of squishing data\n",
    "batch_size = 30,\n",
    "class_mode = 'categorical',\n",
    "shuffle = True,\n",
    "color_mode = 'grayscale')\n",
    "\n",
    "validation_set = training_datagen.flow_from_dataframe(\n",
    "dataframe = df,\n",
    "directory = './dataset/image/',\n",
    "x_col = \"file_name\",\n",
    "y_col = \"label\",\n",
    "subset = \"validation\",\n",
    "seed = 21,\n",
    "target_size = (256, 256), # Can change 512 to see effect of squishing data\n",
    "batch_size = 30,\n",
    "#class_mode = 'binary',\n",
    "class_mode = 'categorical',\n",
    "shuffle = True,\n",
    "color_mode = 'grayscale') \n",
    "\n",
    "#Image Datagenerator to test algorithm with unseen dataset\n",
    "datagen=ImageDataGenerator(\n",
    "rescale=1./255.)\n",
    "\n",
    "testing_set=datagen.flow_from_dataframe(\n",
    "dataframe=df_test,\n",
    "directory=\"test/image/\",\n",
    "x_col=\"file_name\",\n",
    "y_col=None,\n",
    "seed=21,\n",
    "target_size=(256,256),\n",
    "batch_size=30,\n",
    "shuffle=False,\n",
    "class_mode=None,\n",
    "color_mode = \"grayscale\" )"
   ]
  },
  {
   "cell_type": "markdown",
   "id": "3adf34d2",
   "metadata": {},
   "source": [
    "# Create the model\n",
    "Building a model using Keras' Sequential as it's the most common. Create blank instance and then add layers as necessary. Layer 1 is a convolution with a 3x3 filter, keeping the image size constant by setting padding to same. Set pooling and droput rate. "
   ]
  },
  {
   "cell_type": "code",
   "execution_count": 3,
   "id": "b1981931",
   "metadata": {},
   "outputs": [],
   "source": [
    "model = Sequential()\n",
    "\n",
    "model.add(keras.layers.Conv2D(32, (3, 3), input_shape=(256,256,1), padding='same'))\n",
    "model.add(keras.layers.Activation('relu'))\n",
    "model.add(keras.layers.Conv2D(32, 3, input_shape=(256,256,1), activation='relu', padding='same'))\n",
    "model.add(keras.layers.Dropout(0.2))\n",
    "model.add(keras.layers.BatchNormalization())\n",
    "\n",
    "model.add(keras.layers.Conv2D(64, 3, activation='relu', padding='same'))\n",
    "model.add(keras.layers.MaxPooling2D(2))\n",
    "model.add(keras.layers.Dropout(0.2))\n",
    "model.add(keras.layers.BatchNormalization())\n",
    "    \n",
    "model.add(keras.layers.Conv2D(128, 3, activation='relu', padding='same'))\n",
    "model.add(keras.layers.Dropout(0.2))\n",
    "model.add(keras.layers.BatchNormalization())\n",
    "\n",
    "model.add(Flatten())\n",
    "model.add(keras.layers.Dropout(0.2))\n",
    "model.add(Dense(32))\n",
    "model.add(Activation('relu'))\n",
    "model.add(Dropout(0.3))\n",
    "model.add(keras.layers.BatchNormalization())\n",
    "\n",
    "model.add(Dense(2, activation='softmax'))#2 for no. o classes at end\n",
    "model.compile(loss='categorical_crossentropy', optimizer='adam', metrics=['accuracy'])"
   ]
  },
  {
   "cell_type": "code",
   "execution_count": 4,
   "id": "b80e3cde",
   "metadata": {
    "scrolled": false
   },
   "outputs": [
    {
     "name": "stdout",
     "output_type": "stream",
     "text": [
      "Model: \"sequential\"\n",
      "_________________________________________________________________\n",
      "Layer (type)                 Output Shape              Param #   \n",
      "=================================================================\n",
      "conv2d (Conv2D)              (None, 256, 256, 32)      320       \n",
      "_________________________________________________________________\n",
      "activation (Activation)      (None, 256, 256, 32)      0         \n",
      "_________________________________________________________________\n",
      "conv2d_1 (Conv2D)            (None, 256, 256, 32)      9248      \n",
      "_________________________________________________________________\n",
      "dropout (Dropout)            (None, 256, 256, 32)      0         \n",
      "_________________________________________________________________\n",
      "batch_normalization (BatchNo (None, 256, 256, 32)      128       \n",
      "_________________________________________________________________\n",
      "conv2d_2 (Conv2D)            (None, 256, 256, 64)      18496     \n",
      "_________________________________________________________________\n",
      "max_pooling2d (MaxPooling2D) (None, 128, 128, 64)      0         \n",
      "_________________________________________________________________\n",
      "dropout_1 (Dropout)          (None, 128, 128, 64)      0         \n",
      "_________________________________________________________________\n",
      "batch_normalization_1 (Batch (None, 128, 128, 64)      256       \n",
      "_________________________________________________________________\n",
      "conv2d_3 (Conv2D)            (None, 128, 128, 128)     73856     \n",
      "_________________________________________________________________\n",
      "dropout_2 (Dropout)          (None, 128, 128, 128)     0         \n",
      "_________________________________________________________________\n",
      "batch_normalization_2 (Batch (None, 128, 128, 128)     512       \n",
      "_________________________________________________________________\n",
      "flatten (Flatten)            (None, 2097152)           0         \n",
      "_________________________________________________________________\n",
      "dropout_3 (Dropout)          (None, 2097152)           0         \n",
      "_________________________________________________________________\n",
      "dense (Dense)                (None, 32)                67108896  \n",
      "_________________________________________________________________\n",
      "activation_1 (Activation)    (None, 32)                0         \n",
      "_________________________________________________________________\n",
      "dropout_4 (Dropout)          (None, 32)                0         \n",
      "_________________________________________________________________\n",
      "batch_normalization_3 (Batch (None, 32)                128       \n",
      "_________________________________________________________________\n",
      "dense_1 (Dense)              (None, 2)                 66        \n",
      "=================================================================\n",
      "Total params: 67,211,906\n",
      "Trainable params: 67,211,394\n",
      "Non-trainable params: 512\n",
      "_________________________________________________________________\n",
      "None\n"
     ]
    }
   ],
   "source": [
    "print(model.summary())"
   ]
  },
  {
   "cell_type": "code",
   "execution_count": 5,
   "id": "2f4e5a31",
   "metadata": {
    "scrolled": false
   },
   "outputs": [
    {
     "name": "stdout",
     "output_type": "stream",
     "text": [
      "Epoch 1/12\n",
      "80/80 [==============================] - 498s 6s/step - loss: 0.6459 - accuracy: 0.7038 - val_loss: 0.4932 - val_accuracy: 0.8617\n",
      "Epoch 2/12\n",
      "80/80 [==============================] - 495s 6s/step - loss: 0.4391 - accuracy: 0.8342 - val_loss: 0.4099 - val_accuracy: 0.8733\n",
      "Epoch 3/12\n",
      "80/80 [==============================] - 497s 6s/step - loss: 0.3005 - accuracy: 0.8925 - val_loss: 0.6094 - val_accuracy: 0.6217\n",
      "Epoch 4/12\n",
      "80/80 [==============================] - 489s 6s/step - loss: 0.2170 - accuracy: 0.9283 - val_loss: 0.3553 - val_accuracy: 0.8717\n",
      "Epoch 5/12\n",
      "80/80 [==============================] - 492s 6s/step - loss: 0.1597 - accuracy: 0.9450 - val_loss: 0.3831 - val_accuracy: 0.8367\n",
      "Epoch 6/12\n",
      "80/80 [==============================] - 487s 6s/step - loss: 0.2128 - accuracy: 0.9154 - val_loss: 0.7324 - val_accuracy: 0.6517\n",
      "Epoch 7/12\n",
      "80/80 [==============================] - 487s 6s/step - loss: 0.1598 - accuracy: 0.9417 - val_loss: 0.1688 - val_accuracy: 0.9367\n",
      "Epoch 8/12\n",
      "80/80 [==============================] - 487s 6s/step - loss: 0.1345 - accuracy: 0.9542 - val_loss: 0.2320 - val_accuracy: 0.9383\n",
      "Epoch 9/12\n",
      "80/80 [==============================] - 486s 6s/step - loss: 0.1127 - accuracy: 0.9604 - val_loss: 0.1846 - val_accuracy: 0.9200\n",
      "Epoch 10/12\n",
      "80/80 [==============================] - 487s 6s/step - loss: 0.1145 - accuracy: 0.9613 - val_loss: 0.1870 - val_accuracy: 0.9283\n",
      "Epoch 11/12\n",
      "80/80 [==============================] - 493s 6s/step - loss: 0.1067 - accuracy: 0.9604 - val_loss: 2.3433 - val_accuracy: 0.2767\n",
      "Epoch 12/12\n",
      "80/80 [==============================] - 499s 6s/step - loss: 0.1204 - accuracy: 0.9563 - val_loss: 0.1371 - val_accuracy: 0.9450\n"
     ]
    }
   ],
   "source": [
    "np.random.seed(21)\n",
    "\n",
    "history = model.fit(\n",
    "x = training_set,\n",
    "validation_data=validation_set, \n",
    "epochs=12)\n",
    "\n",
    "\n",
    "# FOR THE GITHUB AS USED IN AN OLD PROJECT\n",
    "model.save(\"CNN_Binary.h5\",overwrite=True,include_optimizer=True) \n",
    "Hist=pd.DataFrame(history.history)\n",
    "Hist.to_csv(\"Binary_History.csv\",index=False)"
   ]
  },
  {
   "cell_type": "code",
   "execution_count": 11,
   "id": "b6d839b3",
   "metadata": {},
   "outputs": [
    {
     "data": {
      "image/png": "[encoded data removed]",
      "text/plain": [
       "<Figure size 432x288 with 1 Axes>"
      ]
     },
     "metadata": {
      "needs_background": "light"
     },
     "output_type": "display_data"
    }
   ],
   "source": [
    "pd.DataFrame(history.history).plot()\n",
    "plt.show()"
   ]
  },
  {
   "cell_type": "code",
   "execution_count": 12,
   "id": "27d35cd7",
   "metadata": {},
   "outputs": [
    {
     "name": "stdout",
     "output_type": "stream",
     "text": [
      "        loss  accuracy  val_loss  val_accuracy\n",
      "0   0.645916  0.703750  0.493246      0.861667\n",
      "1   0.439075  0.834167  0.409883      0.873333\n",
      "2   0.300532  0.892500  0.609432      0.621667\n",
      "3   0.216953  0.928333  0.355305      0.871667\n",
      "4   0.159690  0.945000  0.383052      0.836667\n",
      "5   0.212828  0.915417  0.732366      0.651667\n",
      "6   0.159781  0.941667  0.168781      0.936667\n",
      "7   0.134548  0.954167  0.232027      0.938333\n",
      "8   0.112696  0.960417  0.184632      0.920000\n",
      "9   0.114488  0.961250  0.186988      0.928333\n",
      "10  0.106748  0.960417  2.343251      0.276667\n",
      "11  0.120449  0.956250  0.137145      0.945000\n"
     ]
    }
   ],
   "source": [
    "print(Hist)"
   ]
  },
  {
   "cell_type": "code",
   "execution_count": 13,
   "id": "d2435351",
   "metadata": {},
   "outputs": [
    {
     "name": "stdout",
     "output_type": "stream",
     "text": [
      "19/19 [==============================] - 14s 718ms/step - loss: 0.1309 - accuracy: 0.9456\n"
     ]
    },
    {
     "data": {
      "text/plain": [
       "[0.13093335926532745, 0.9456140398979187]"
      ]
     },
     "execution_count": 13,
     "metadata": {},
     "output_type": "execute_result"
    }
   ],
   "source": [
    "model.evaluate(\n",
    "    x=validation_set,\n",
    "    steps = 19 # 19 gave close vals here and lower\n",
    ")"
   ]
  },
  {
   "cell_type": "code",
   "execution_count": 1,
   "id": "b11b5d95",
   "metadata": {},
   "outputs": [
    {
     "ename": "NameError",
     "evalue": "name 'model' is not defined",
     "output_type": "error",
     "traceback": [
      "\u001b[1;31m---------------------------------------------------------------------------\u001b[0m",
      "\u001b[1;31mNameError\u001b[0m                                 Traceback (most recent call last)",
      "\u001b[1;32m~\\AppData\\Local\\Temp/ipykernel_204/3172884948.py\u001b[0m in \u001b[0;36m<module>\u001b[1;34m\u001b[0m\n\u001b[1;32m----> 1\u001b[1;33m \u001b[0mpred\u001b[0m\u001b[1;33m=\u001b[0m\u001b[0mmodel\u001b[0m\u001b[1;33m.\u001b[0m\u001b[0mpredict\u001b[0m\u001b[1;33m(\u001b[0m\u001b[0mtesting_set\u001b[0m\u001b[1;33m,\u001b[0m\u001b[0mverbose\u001b[0m\u001b[1;33m=\u001b[0m\u001b[1;36m1\u001b[0m\u001b[1;33m)\u001b[0m\u001b[1;33m\u001b[0m\u001b[1;33m\u001b[0m\u001b[0m\n\u001b[0m\u001b[0;32m      2\u001b[0m \u001b[0mprint\u001b[0m\u001b[1;33m(\u001b[0m\u001b[0mpred\u001b[0m\u001b[1;33m)\u001b[0m\u001b[1;33m\u001b[0m\u001b[1;33m\u001b[0m\u001b[0m\n\u001b[0;32m      3\u001b[0m \u001b[0mpredicted_class_indices\u001b[0m\u001b[1;33m=\u001b[0m\u001b[0mnp\u001b[0m\u001b[1;33m.\u001b[0m\u001b[0margmax\u001b[0m\u001b[1;33m(\u001b[0m\u001b[0mpred\u001b[0m\u001b[1;33m,\u001b[0m\u001b[0maxis\u001b[0m\u001b[1;33m=\u001b[0m\u001b[1;36m1\u001b[0m\u001b[1;33m)\u001b[0m\u001b[1;33m\u001b[0m\u001b[1;33m\u001b[0m\u001b[0m\n\u001b[0;32m      4\u001b[0m \u001b[0mprint\u001b[0m\u001b[1;33m(\u001b[0m\u001b[0mpredicted_class_indices\u001b[0m\u001b[1;33m)\u001b[0m\u001b[1;33m\u001b[0m\u001b[1;33m\u001b[0m\u001b[0m\n",
      "\u001b[1;31mNameError\u001b[0m: name 'model' is not defined"
     ]
    }
   ],
   "source": [
    "pred=model.predict(testing_set,verbose=1)\n",
    "print(pred)\n",
    "predicted_class_indices=np.argmax(pred,axis=1)\n",
    "print(predicted_class_indices)"
   ]
  },
  {
   "cell_type": "code",
   "execution_count": 15,
   "id": "6e11c3f3",
   "metadata": {},
   "outputs": [
    {
     "name": "stdout",
     "output_type": "stream",
     "text": [
      "Test Accuracy 94.5 %\n"
     ]
    }
   ],
   "source": [
    "labels = (training_set.class_indices)\n",
    "print(labels)\n",
    "\n",
    "#To convert the predicted matrix into the correct form so the model can compare result.Predictions and df_test.label\n",
    "labels = dict((a,b) for b,a in labels.items())\n",
    "predictions = [labels[i] for i in predicted_class_indices]\n",
    "\n",
    "result=pd.DataFrame({\"Filename\":testing_set.filenames,\"Predictions\":predictions})\n",
    "evals = result.Predictions == df_test.label \n",
    "print('Test Accuracy',np.count_nonzero(evals)/len(evals)*100,'%')"
   ]
  },
  {
   "cell_type": "code",
   "execution_count": null,
   "id": "8d2726ee",
   "metadata": {},
   "outputs": [],
   "source": []
  }
 ],
 "metadata": {
  "kernelspec": {
   "display_name": "Python 3 (ipykernel)",
   "language": "python",
   "name": "python3"
  },
  "language_info": {
   "codemirror_mode": {
    "name": "ipython",
    "version": 3
   },
   "file_extension": ".py",
   "mimetype": "text/x-python",
   "name": "python",
   "nbconvert_exporter": "python",
   "pygments_lexer": "ipython3",
   "version": "3.8.12"
  }
 },
 "nbformat": 4,
 "nbformat_minor": 5
}
