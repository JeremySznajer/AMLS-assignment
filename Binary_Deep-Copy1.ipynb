{
 "cells": [
  {
   "cell_type": "markdown",
   "id": "83b1435c",
   "metadata": {},
   "source": [
    "Hello"
   ]
  },
  {
   "cell_type": "code",
   "execution_count": 15,
   "id": "a6e607bd",
   "metadata": {},
   "outputs": [],
   "source": [
    "import os\n",
    "import numpy as np\n",
    "import matplotlib.pyplot as plt\n",
    "import pandas as pd\n",
    "\n",
    "from tensorflow import keras\n",
    "from tensorflow.keras import regularizers, optimizers\n",
    "from tensorflow.keras.models import Sequential\n",
    "from tensorflow.keras.preprocessing.image import ImageDataGenerator\n",
    "from tensorflow.keras.layers import Dense,Activation,Conv2D, Flatten, Dropout, MaxPooling2D, BatchNormalization"
   ]
  },
  {
   "cell_type": "code",
   "execution_count": 16,
   "id": "5b6285c1",
   "metadata": {},
   "outputs": [],
   "source": [
    "df=pd.read_csv('./dataset/label_binary.csv',dtype=str)\n",
    "#df_test=pd.read_csv('./dataset/label_binary.csv',dtype=str) #for validation set"
   ]
  },
  {
   "cell_type": "code",
   "execution_count": 17,
   "id": "a2beab1a",
   "metadata": {},
   "outputs": [
    {
     "name": "stdout",
     "output_type": "stream",
     "text": [
      "Found 2400 validated image filenames belonging to 2 classes.\n",
      "Found 600 validated image filenames belonging to 2 classes.\n"
     ]
    }
   ],
   "source": [
    "training_datagen = ImageDataGenerator(\n",
    "rescale =1./255,\n",
    "validation_split = 0.2)\n",
    "\n",
    "training_set = training_datagen.flow_from_dataframe(\n",
    "dataframe = df,\n",
    "directory = './dataset/image/',\n",
    "x_col = \"file_name\",\n",
    "y_col = \"label\",\n",
    "subset = \"training\",\n",
    "seed = 67,\n",
    "target_size = (256, 256), # Can change 512 to see effect of squishing data\n",
    "batch_size = 30,\n",
    "class_mode = 'categorical',\n",
    "shuffle = True,\n",
    "color_mode = 'grayscale')\n",
    "\n",
    "validation_set = training_datagen.flow_from_dataframe(\n",
    "dataframe = df,\n",
    "directory = './dataset/image/',\n",
    "x_col = \"file_name\",\n",
    "y_col = \"label\",\n",
    "subset = \"validation\",\n",
    "seed = 67,\n",
    "target_size = (256, 256), # Can change 512 to see effect of squishing data\n",
    "batch_size = 30,\n",
    "#class_mode = 'binary',\n",
    "class_mode = 'categorical',\n",
    "shuffle = True,\n",
    "color_mode = 'grayscale') "
   ]
  },
  {
   "cell_type": "code",
   "execution_count": 18,
   "id": "b1981931",
   "metadata": {},
   "outputs": [],
   "source": [
    "model = Sequential()\n",
    "\n",
    "model.add(Conv2D(32, (3, 3), padding='same',input_shape=(256,256,1)))\n",
    "model.add(Activation('relu'))\n",
    "model.add(Conv2D(32, (3, 3)))\n",
    "model.add(Activation('relu'))\n",
    "model.add(MaxPooling2D(pool_size=(2, 2)))\n",
    "model.add(Dropout(0.25)) #val to change\n",
    "model.add(keras.layers.BatchNormalization())\n",
    "\n",
    "model.add(Conv2D(64, (3, 3), padding='same'))\n",
    "model.add(Activation('relu'))\n",
    "model.add(Conv2D(64, (3, 3)))\n",
    "model.add(Activation('relu'))\n",
    "model.add(MaxPooling2D(pool_size=(2, 2)))\n",
    "model.add(Dropout(0.25)) #val to chang\n",
    "model.add(keras.layers.BatchNormalization())\n",
    "\n",
    "\n",
    "\n",
    "model.add(Flatten())\n",
    "model.add(Dense(512))\n",
    "model.add(Activation('relu'))\n",
    "model.add(Dropout(0.5))\n",
    "model.add(keras.layers.BatchNormalization())\n",
    "model.add(Dense(2, activation='softmax'))#2 for no. o classes at end\n",
    "model.compile(optimizer='rmsprop',loss='binary_crossentropy',metrics=['accuracy'])"
   ]
  },
  {
   "cell_type": "code",
   "execution_count": 19,
   "id": "b80e3cde",
   "metadata": {
    "scrolled": false
   },
   "outputs": [
    {
     "name": "stdout",
     "output_type": "stream",
     "text": [
      "Model: \"sequential_4\"\n",
      "_________________________________________________________________\n",
      "Layer (type)                 Output Shape              Param #   \n",
      "=================================================================\n",
      "conv2d_12 (Conv2D)           (None, 256, 256, 32)      320       \n",
      "_________________________________________________________________\n",
      "activation_14 (Activation)   (None, 256, 256, 32)      0         \n",
      "_________________________________________________________________\n",
      "conv2d_13 (Conv2D)           (None, 254, 254, 32)      9248      \n",
      "_________________________________________________________________\n",
      "activation_15 (Activation)   (None, 254, 254, 32)      0         \n",
      "_________________________________________________________________\n",
      "max_pooling2d_6 (MaxPooling2 (None, 127, 127, 32)      0         \n",
      "_________________________________________________________________\n",
      "dropout_8 (Dropout)          (None, 127, 127, 32)      0         \n",
      "_________________________________________________________________\n",
      "batch_normalization (BatchNo (None, 127, 127, 32)      128       \n",
      "_________________________________________________________________\n",
      "conv2d_14 (Conv2D)           (None, 127, 127, 64)      18496     \n",
      "_________________________________________________________________\n",
      "activation_16 (Activation)   (None, 127, 127, 64)      0         \n",
      "_________________________________________________________________\n",
      "conv2d_15 (Conv2D)           (None, 125, 125, 64)      36928     \n",
      "_________________________________________________________________\n",
      "activation_17 (Activation)   (None, 125, 125, 64)      0         \n",
      "_________________________________________________________________\n",
      "max_pooling2d_7 (MaxPooling2 (None, 62, 62, 64)        0         \n",
      "_________________________________________________________________\n",
      "dropout_9 (Dropout)          (None, 62, 62, 64)        0         \n",
      "_________________________________________________________________\n",
      "batch_normalization_1 (Batch (None, 62, 62, 64)        256       \n",
      "_________________________________________________________________\n",
      "flatten_2 (Flatten)          (None, 246016)            0         \n",
      "_________________________________________________________________\n",
      "dense_4 (Dense)              (None, 512)               125960704 \n",
      "_________________________________________________________________\n",
      "activation_18 (Activation)   (None, 512)               0         \n",
      "_________________________________________________________________\n",
      "dropout_10 (Dropout)         (None, 512)               0         \n",
      "_________________________________________________________________\n",
      "batch_normalization_2 (Batch (None, 512)               2048      \n",
      "_________________________________________________________________\n",
      "dense_5 (Dense)              (None, 2)                 1026      \n",
      "=================================================================\n",
      "Total params: 126,029,154\n",
      "Trainable params: 126,027,938\n",
      "Non-trainable params: 1,216\n",
      "_________________________________________________________________\n",
      "None\n"
     ]
    }
   ],
   "source": [
    "print(model.summary())"
   ]
  },
  {
   "cell_type": "code",
   "execution_count": 20,
   "id": "2f4e5a31",
   "metadata": {},
   "outputs": [
    {
     "name": "stdout",
     "output_type": "stream",
     "text": [
      "80/80 [==============================] - 385s 5s/step - loss: 0.5516 - accuracy: 0.7883 - val_loss: 0.5776 - val_accuracy: 0.8067\n"
     ]
    }
   ],
   "source": [
    "history = model.fit(\n",
    "x = training_set,\n",
    "validation_data=validation_set, \n",
    "epochs=1)"
   ]
  },
  {
   "cell_type": "code",
   "execution_count": null,
   "id": "b6d839b3",
   "metadata": {},
   "outputs": [],
   "source": [
    "pd.DataFrame(history.history).plot()\n",
    "plt.show()"
   ]
  },
  {
   "cell_type": "code",
   "execution_count": null,
   "id": "27d35cd7",
   "metadata": {},
   "outputs": [],
   "source": []
  }
 ],
 "metadata": {
  "kernelspec": {
   "display_name": "Python 3 (ipykernel)",
   "language": "python",
   "name": "python3"
  },
  "language_info": {
   "codemirror_mode": {
    "name": "ipython",
    "version": 3
   },
   "file_extension": ".py",
   "mimetype": "text/x-python",
   "name": "python",
   "nbconvert_exporter": "python",
   "pygments_lexer": "ipython3",
   "version": "3.8.12"
  }
 },
 "nbformat": 4,
 "nbformat_minor": 5
}
